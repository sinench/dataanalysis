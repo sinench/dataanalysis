{
 "cells": [
  {
   "cell_type": "code",
   "execution_count": 45,
   "id": "12214694",
   "metadata": {},
   "outputs": [
    {
     "name": "stdout",
     "output_type": "stream",
     "text": [
      "[10, 17, 25, 38, 72]\n"
     ]
    }
   ],
   "source": [
    "#Exercice 1\n",
    "liste = [17, 38, 10, 25, 72]\n",
    "liste.sort()\n",
    "print(liste)"
   ]
  },
  {
   "cell_type": "code",
   "execution_count": 46,
   "id": "4efa07c1",
   "metadata": {},
   "outputs": [
    {
     "data": {
      "text/plain": [
       "[10, 17, 25, 38, 72, 12]"
      ]
     },
     "execution_count": 46,
     "metadata": {},
     "output_type": "execute_result"
    }
   ],
   "source": [
    "liste.append(12)\n",
    "liste"
   ]
  },
  {
   "cell_type": "code",
   "execution_count": 47,
   "id": "3ddad544",
   "metadata": {},
   "outputs": [
    {
     "data": {
      "text/plain": [
       "[12, 72, 38, 25, 17, 10]"
      ]
     },
     "execution_count": 47,
     "metadata": {},
     "output_type": "execute_result"
    }
   ],
   "source": [
    "liste.reverse()\n",
    "liste"
   ]
  },
  {
   "cell_type": "code",
   "execution_count": 48,
   "id": "b0dc9735",
   "metadata": {},
   "outputs": [
    {
     "data": {
      "text/plain": [
       "4"
      ]
     },
     "execution_count": 48,
     "metadata": {},
     "output_type": "execute_result"
    }
   ],
   "source": [
    "#indice_17 = liste.index(17)\n",
    "#indice_17\n",
    "liste.index(17)"
   ]
  },
  {
   "cell_type": "code",
   "execution_count": 49,
   "id": "25abbcdb",
   "metadata": {},
   "outputs": [
    {
     "data": {
      "text/plain": [
       "[12, 72, 25, 17, 10]"
      ]
     },
     "execution_count": 49,
     "metadata": {},
     "output_type": "execute_result"
    }
   ],
   "source": [
    "liste.remove(38)\n",
    "liste"
   ]
  },
  {
   "cell_type": "code",
   "execution_count": 50,
   "id": "4b9f80d8",
   "metadata": {},
   "outputs": [
    {
     "data": {
      "text/plain": [
       "[72, 25]"
      ]
     },
     "execution_count": 50,
     "metadata": {},
     "output_type": "execute_result"
    }
   ],
   "source": [
    "liste[1:3]"
   ]
  },
  {
   "cell_type": "code",
   "execution_count": 51,
   "id": "a40a29d4",
   "metadata": {},
   "outputs": [
    {
     "data": {
      "text/plain": [
       "[12, 72]"
      ]
     },
     "execution_count": 51,
     "metadata": {},
     "output_type": "execute_result"
    }
   ],
   "source": [
    "liste[:2]"
   ]
  },
  {
   "cell_type": "code",
   "execution_count": 52,
   "id": "cd7f3093",
   "metadata": {},
   "outputs": [
    {
     "data": {
      "text/plain": [
       "[25, 17, 10]"
      ]
     },
     "execution_count": 52,
     "metadata": {},
     "output_type": "execute_result"
    }
   ],
   "source": [
    "liste[2:]"
   ]
  },
  {
   "cell_type": "code",
   "execution_count": 53,
   "id": "a82daf74",
   "metadata": {},
   "outputs": [
    {
     "data": {
      "text/plain": [
       "[12, 72, 25, 17, 10]"
      ]
     },
     "execution_count": 53,
     "metadata": {},
     "output_type": "execute_result"
    }
   ],
   "source": [
    "liste[:]"
   ]
  },
  {
   "cell_type": "code",
   "execution_count": 54,
   "id": "80a57452",
   "metadata": {},
   "outputs": [
    {
     "data": {
      "text/plain": [
       "10"
      ]
     },
     "execution_count": 54,
     "metadata": {},
     "output_type": "execute_result"
    }
   ],
   "source": [
    "liste[-1]"
   ]
  },
  {
   "cell_type": "code",
   "execution_count": 61,
   "id": "58f92011",
   "metadata": {},
   "outputs": [
    {
     "name": "stdout",
     "output_type": "stream",
     "text": [
      "Saisissez un rayon : 3.4\n",
      "Saisissez une hauteur : 2.7\n",
      "Le volume de ce cône est de : 32.68512996794821\n"
     ]
    }
   ],
   "source": [
    "#Exercice2\n",
    "import math\n",
    "\n",
    "def volume_cone(r, h):\n",
    "    volume = (math.pi * r**2 * h) / 3\n",
    "    print(\"Le volume de ce cône est de :\", volume)\n",
    "\n",
    "r = float(input(\"Saisissez un rayon : \"))\n",
    "h = float(input(\"Saisissez une hauteur : \"))\n",
    "volume_cone(r, h)"
   ]
  },
  {
   "cell_type": "code",
   "execution_count": 62,
   "id": "7d3fbb98",
   "metadata": {},
   "outputs": [
    {
     "name": "stdout",
     "output_type": "stream",
     "text": [
      "Saisissez le nombre de poules : 3\n",
      "Saisissez le nombre de chiens : 3\n",
      "Saisissez le nombre de vaches : 3\n",
      "Saisissez le nombre d'hommes : 3\n",
      "Le chasseur doit payer une amende de : 114.0 euros\n"
     ]
    }
   ],
   "source": [
    "#Exercice3\n",
    "def amende(nb_poule, nb_chien, nb_vache, nb_homme):\n",
    "    points_perdus = nb_poule * 1 + nb_chien * 3 + nb_vache * 5 + nb_homme * 10\n",
    "    somme_amende = (points_perdus / 100) * 200\n",
    "    print(\"Le chasseur doit payer une amende de :\", round(somme_amende, 2), \"euros\")\n",
    "\n",
    "p = int(input(\"Saisissez le nombre de poules : \"))\n",
    "c = int(input(\"Saisissez le nombre de chiens : \"))\n",
    "v = int(input(\"Saisissez le nombre de vaches : \"))\n",
    "h = int(input(\"Saisissez le nombre d'hommes : \"))\n",
    "amende(p, c, v, h)"
   ]
  },
  {
   "cell_type": "code",
   "execution_count": 63,
   "id": "59d9d2f8",
   "metadata": {},
   "outputs": [
    {
     "name": "stdout",
     "output_type": "stream",
     "text": [
      "Saisissez l'ordre' : 6\n"
     ]
    },
    {
     "data": {
      "text/plain": [
       "2.718"
      ]
     },
     "execution_count": 63,
     "metadata": {},
     "output_type": "execute_result"
    }
   ],
   "source": [
    "#Exercice4\n",
    "def factorielle(n):\n",
    "    F = 1\n",
    "    for i in range(n, 1, -1):\n",
    "        F = F*i\n",
    "    return F\n",
    "\n",
    "def approximation_exponentiel(n):\n",
    "    # Initialisation de e pour n=0\n",
    "    exponentiel = 1\n",
    "    # Transformation de la formule en code pour n>=1\n",
    "    for i in range(1,n+1):\n",
    "        exponentiel = exponentiel + 1 / factorielle(i)\n",
    "    return round(exponentiel,3)\n",
    "\n",
    "n = int(input(\"Saisissez l'ordre' : \"))\n",
    "approximation_exponentiel(n)"
   ]
  },
  {
   "cell_type": "code",
   "execution_count": 89,
   "id": "09b7de1a",
   "metadata": {},
   "outputs": [
    {
     "data": {
      "text/plain": [
       "['À la vitesse de 100km/h, vous serez déchiqueté à 10H42',\n",
       " 'À la vitesse de 110km/h, vous serez déchiqueté à 10H33',\n",
       " 'À la vitesse de 120km/h, vous serez déchiqueté à 10H25',\n",
       " 'À la vitesse de 130km/h, vous serez déchiqueté à 10H18',\n",
       " 'À la vitesse de 140km/h, vous serez déchiqueté à 10H13',\n",
       " 'À la vitesse de 150km/h, vous serez déchiqueté à 10H08',\n",
       " 'À la vitesse de 160km/h, vous serez déchiqueté à 10H04',\n",
       " 'À la vitesse de 170km/h, vous serez déchiqueté à 10H00',\n",
       " 'À la vitesse de 180km/h, vous serez déchiqueté à 09H57',\n",
       " 'À la vitesse de 190km/h, vous serez déchiqueté à 09H54',\n",
       " 'À la vitesse de 200km/h, vous serez déchiqueté à 09H51',\n",
       " 'À la vitesse de 210km/h, vous serez déchiqueté à 09H49',\n",
       " 'À la vitesse de 220km/h, vous serez déchiqueté à 09H46',\n",
       " 'À la vitesse de 230km/h, vous serez déchiqueté à 09H44',\n",
       " 'À la vitesse de 240km/h, vous serez déchiqueté à 09H43',\n",
       " 'À la vitesse de 250km/h, vous serez déchiqueté à 09H41',\n",
       " 'À la vitesse de 260km/h, vous serez déchiqueté à 09H39',\n",
       " 'À la vitesse de 270km/h, vous serez déchiqueté à 09H38',\n",
       " 'À la vitesse de 280km/h, vous serez déchiqueté à 09H36',\n",
       " 'À la vitesse de 290km/h, vous serez déchiqueté à 09H35',\n",
       " 'À la vitesse de 300km/h, vous serez déchiqueté à 09H34']"
      ]
     },
     "execution_count": 89,
     "metadata": {},
     "output_type": "execute_result"
    }
   ],
   "source": [
    "#Exercice5\n",
    "import math\n",
    "\n",
    "distance = 170\n",
    "heure_de_depart = 9\n",
    "\n",
    "def tchacatchac(vitesse):\n",
    "    heure_accident = heure_de_depart + distance / vitesse\n",
    "    heure_du_drame = str(math.floor(heure_accident)) + 'H' + str(round((heure_accident - math.floor(heure_accident)) * 60))\n",
    "    if (math.floor(heure_accident) < 10):\n",
    "        heure_du_drame = '0' + heure_du_drame\n",
    "        \n",
    "    if ((heure_accident - math.floor(heure_accident)) < 1 / 6):\n",
    "        heure_du_drame = ''.join((heure_du_drame[:3],'0',heure_du_drame[3:]))        \n",
    "    return heure_du_drame\n",
    "\n",
    "heure_du_drame_tab=[]\n",
    "\n",
    "for vitesse in range(100, 310, 10):\n",
    "    heure_du_drame = tchacatchac(vitesse)\n",
    "    heure_du_drame_str = \"À la vitesse de \" + str(vitesse) + \"km/h, vous serez déchiqueté à \" + str(heure_du_drame)\n",
    "    heure_du_drame_tab.append(heure_du_drame_str)\n",
    "\n",
    "heure_du_drame_tab"
   ]
  },
  {
   "cell_type": "code",
   "execution_count": 93,
   "id": "e3172497",
   "metadata": {},
   "outputs": [
    {
     "data": {
      "text/html": [
       "<div>\n",
       "<style scoped>\n",
       "    .dataframe tbody tr th:only-of-type {\n",
       "        vertical-align: middle;\n",
       "    }\n",
       "\n",
       "    .dataframe tbody tr th {\n",
       "        vertical-align: top;\n",
       "    }\n",
       "\n",
       "    .dataframe thead th {\n",
       "        text-align: right;\n",
       "    }\n",
       "</style>\n",
       "<table border=\"1\" class=\"dataframe\">\n",
       "  <thead>\n",
       "    <tr style=\"text-align: right;\">\n",
       "      <th></th>\n",
       "      <th>vitesse</th>\n",
       "      <th>heure</th>\n",
       "    </tr>\n",
       "  </thead>\n",
       "  <tbody>\n",
       "    <tr>\n",
       "      <th>0</th>\n",
       "      <td>100</td>\n",
       "      <td>10H42</td>\n",
       "    </tr>\n",
       "    <tr>\n",
       "      <th>1</th>\n",
       "      <td>110</td>\n",
       "      <td>10H33</td>\n",
       "    </tr>\n",
       "    <tr>\n",
       "      <th>2</th>\n",
       "      <td>120</td>\n",
       "      <td>10H25</td>\n",
       "    </tr>\n",
       "    <tr>\n",
       "      <th>3</th>\n",
       "      <td>130</td>\n",
       "      <td>10H18</td>\n",
       "    </tr>\n",
       "    <tr>\n",
       "      <th>4</th>\n",
       "      <td>140</td>\n",
       "      <td>10H13</td>\n",
       "    </tr>\n",
       "    <tr>\n",
       "      <th>5</th>\n",
       "      <td>150</td>\n",
       "      <td>10H08</td>\n",
       "    </tr>\n",
       "    <tr>\n",
       "      <th>6</th>\n",
       "      <td>160</td>\n",
       "      <td>10H04</td>\n",
       "    </tr>\n",
       "    <tr>\n",
       "      <th>7</th>\n",
       "      <td>170</td>\n",
       "      <td>10H00</td>\n",
       "    </tr>\n",
       "    <tr>\n",
       "      <th>8</th>\n",
       "      <td>180</td>\n",
       "      <td>09H57</td>\n",
       "    </tr>\n",
       "    <tr>\n",
       "      <th>9</th>\n",
       "      <td>190</td>\n",
       "      <td>09H54</td>\n",
       "    </tr>\n",
       "    <tr>\n",
       "      <th>10</th>\n",
       "      <td>200</td>\n",
       "      <td>09H51</td>\n",
       "    </tr>\n",
       "    <tr>\n",
       "      <th>11</th>\n",
       "      <td>210</td>\n",
       "      <td>09H49</td>\n",
       "    </tr>\n",
       "    <tr>\n",
       "      <th>12</th>\n",
       "      <td>220</td>\n",
       "      <td>09H46</td>\n",
       "    </tr>\n",
       "    <tr>\n",
       "      <th>13</th>\n",
       "      <td>230</td>\n",
       "      <td>09H44</td>\n",
       "    </tr>\n",
       "    <tr>\n",
       "      <th>14</th>\n",
       "      <td>240</td>\n",
       "      <td>09H43</td>\n",
       "    </tr>\n",
       "    <tr>\n",
       "      <th>15</th>\n",
       "      <td>250</td>\n",
       "      <td>09H41</td>\n",
       "    </tr>\n",
       "    <tr>\n",
       "      <th>16</th>\n",
       "      <td>260</td>\n",
       "      <td>09H39</td>\n",
       "    </tr>\n",
       "    <tr>\n",
       "      <th>17</th>\n",
       "      <td>270</td>\n",
       "      <td>09H38</td>\n",
       "    </tr>\n",
       "    <tr>\n",
       "      <th>18</th>\n",
       "      <td>280</td>\n",
       "      <td>09H36</td>\n",
       "    </tr>\n",
       "    <tr>\n",
       "      <th>19</th>\n",
       "      <td>290</td>\n",
       "      <td>09H35</td>\n",
       "    </tr>\n",
       "    <tr>\n",
       "      <th>20</th>\n",
       "      <td>300</td>\n",
       "      <td>09H34</td>\n",
       "    </tr>\n",
       "  </tbody>\n",
       "</table>\n",
       "</div>"
      ],
      "text/plain": [
       "    vitesse  heure\n",
       "0       100  10H42\n",
       "1       110  10H33\n",
       "2       120  10H25\n",
       "3       130  10H18\n",
       "4       140  10H13\n",
       "5       150  10H08\n",
       "6       160  10H04\n",
       "7       170  10H00\n",
       "8       180  09H57\n",
       "9       190  09H54\n",
       "10      200  09H51\n",
       "11      210  09H49\n",
       "12      220  09H46\n",
       "13      230  09H44\n",
       "14      240  09H43\n",
       "15      250  09H41\n",
       "16      260  09H39\n",
       "17      270  09H38\n",
       "18      280  09H36\n",
       "19      290  09H35\n",
       "20      300  09H34"
      ]
     },
     "execution_count": 93,
     "metadata": {},
     "output_type": "execute_result"
    }
   ],
   "source": [
    "#En DataFrame\n",
    "\n",
    "import pandas as pd\n",
    "\n",
    "df = {\"vitesse\":[], \"heure\":[]}\n",
    "\n",
    "for vitesse in range(100, 310, 10):\n",
    "    heure_du_drame = tchacatchac(vitesse)\n",
    "    df[\"vitesse\"].append(vitesse)\n",
    "    df[\"heure\"].append(heure_du_drame)\n",
    "    \n",
    "df=pd.DataFrame(df)\n",
    "df\n",
    "\n"
   ]
  },
  {
   "cell_type": "code",
   "execution_count": null,
   "id": "a90183c4",
   "metadata": {},
   "outputs": [],
   "source": []
  }
 ],
 "metadata": {
  "kernelspec": {
   "display_name": "Python 3 (ipykernel)",
   "language": "python",
   "name": "python3"
  },
  "language_info": {
   "codemirror_mode": {
    "name": "ipython",
    "version": 3
   },
   "file_extension": ".py",
   "mimetype": "text/x-python",
   "name": "python",
   "nbconvert_exporter": "python",
   "pygments_lexer": "ipython3",
   "version": "3.10.8"
  }
 },
 "nbformat": 4,
 "nbformat_minor": 5
}
